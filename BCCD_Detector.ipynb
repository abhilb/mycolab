{
  "nbformat": 4,
  "nbformat_minor": 0,
  "metadata": {
    "colab": {
      "name": "BCCD_Detector.ipynb",
      "provenance": [],
      "collapsed_sections": [],
      "authorship_tag": "ABX9TyNuC4xcpi5iETIUDoeidqPV",
      "include_colab_link": true
    },
    "kernelspec": {
      "name": "python3",
      "display_name": "Python 3"
    },
    "language_info": {
      "name": "python"
    }
  },
  "cells": [
    {
      "cell_type": "markdown",
      "metadata": {
        "id": "view-in-github",
        "colab_type": "text"
      },
      "source": [
        "<a href=\"https://colab.research.google.com/github/abhilb/mycolab/blob/main/BCCD_Detector.ipynb\" target=\"_parent\"><img src=\"https://colab.research.google.com/assets/colab-badge.svg\" alt=\"Open In Colab\"/></a>"
      ]
    },
    {
      "cell_type": "markdown",
      "source": [
        "Download the BCCD Dataset"
      ],
      "metadata": {
        "id": "JrBY60X3j0l1"
      }
    },
    {
      "cell_type": "code",
      "source": [
        "!curl -L \"https://public.roboflow.com/ds/3rjLFcVl91?key=8ORYFTdPjq\" > roboflow.zip; unzip roboflow.zip; rm roboflow.zip"
      ],
      "metadata": {
        "id": "iCavpWa1j3cU"
      },
      "execution_count": null,
      "outputs": []
    },
    {
      "cell_type": "code",
      "source": [
        "from pathlib import Path\n",
        "import torch\n",
        "import torchvision"
      ],
      "metadata": {
        "id": "04ye7o7nj4Q9"
      },
      "execution_count": null,
      "outputs": []
    },
    {
      "cell_type": "code",
      "source": [
        "print(torch.__version__)\n",
        "print(torchvision.__version__)"
      ],
      "metadata": {
        "id": "3e5VkPRcj9jz"
      },
      "execution_count": null,
      "outputs": []
    },
    {
      "cell_type": "code",
      "source": [
        "!pip install pytorch_lightning"
      ],
      "metadata": {
        "id": "p7eNEmzdkV3P"
      },
      "execution_count": null,
      "outputs": []
    },
    {
      "cell_type": "code",
      "source": [
        "import pytorch_lightning as pl"
      ],
      "metadata": {
        "id": "Gc1fm9aWkMKV"
      },
      "execution_count": null,
      "outputs": []
    },
    {
      "cell_type": "code",
      "source": [
        "from torch.utils.data import Dataset, DataLoader\n",
        "from torchvision.io import read_image\n",
        "import torchvision.transforms as T\n",
        "import json\n",
        "from typing import NamedTuple\n",
        "from collections import defaultdict"
      ],
      "metadata": {
        "id": "d7hxx-3glPND"
      },
      "execution_count": null,
      "outputs": []
    },
    {
      "cell_type": "code",
      "source": [
        "class BBox(NamedTuple):\n",
        "  xmin: float\n",
        "  ymin: float\n",
        "  xmax: float\n",
        "  ymax: float\n",
        "  \n",
        "  @staticmethod\n",
        "  def from_xywh(*xywh):\n",
        "    xmin, ymin, wd, ht = xywh\n",
        "    xmax = xmin + wd\n",
        "    ymax = ymin + ht\n",
        "    return BBox(xmin, ymin, xmax, ymax)"
      ],
      "metadata": {
        "id": "SS5o5Y-EmILu"
      },
      "execution_count": null,
      "outputs": []
    },
    {
      "cell_type": "code",
      "source": [
        "class Annotation(NamedTuple):\n",
        "  category: int\n",
        "  bbox: BBox"
      ],
      "metadata": {
        "id": "HDovP4CknPRV"
      },
      "execution_count": null,
      "outputs": []
    },
    {
      "cell_type": "code",
      "source": [
        "class BCCDDataset(torch.utils.data.Dataset):\n",
        "  def __init__(self, data_path: Path):\n",
        "    self.data_path = data_path\n",
        "    annot_file = data_path / \"_annotations.coco.json\"\n",
        "    self.dataset = defaultdict(list)\n",
        "    self.img_id_map = defaultdict(str)\n",
        "    with open(annot_file) as f:\n",
        "      annotation = json.load(f)\n",
        "      for img_annot in annotation['images']:\n",
        "        id = img_annot['id']\n",
        "        img_fname = img_annot['file_name']\n",
        "        self.img_id_map[id] = img_fname\n",
        "      for box_annot in annotation['annotations']:\n",
        "        annot = Annotation(box_annot['category_id'], BBox.from_xywh(*box_annot['bbox']))\n",
        "        idx = box_annot['image_id']\n",
        "        self.dataset[id].append(annot)\n",
        "  def __len__(self) -> int:\n",
        "    return len(self.dataset.keys())\n",
        "\n",
        "  def __getitem__(self, idx: int):\n",
        "    img_ids = list(self.dataset.keys())\n",
        "    img_id = img_ids[idx]\n",
        "    img_fname = self.img_id_map[img_id]\n",
        "    annots = self.dataset[img_id]\n",
        "    img = read_image(str(self.data_path / img_fname))\n",
        "    img = T.Resize((320, 320))(img)\n",
        "    img = img.type(torch.float32) / 255.0\n",
        "\n",
        "    boxes = []\n",
        "    labels = []\n",
        "    for annot in annots:\n",
        "      labels.append(annot.category)\n",
        "      boxes.append(\n",
        "          [\n",
        "           annot.bbox.xmin * 320 / 416,\n",
        "           annot.bbox.ymin * 320 / 416,\n",
        "           annot.bbox.xmax * 320 / 416,\n",
        "           annot.bbox.ymax * 320 / 416\n",
        "          ]\n",
        "      )\n",
        "    boxes = torch.as_tensor(boxes, dtype=torch.float32)\n",
        "    labels = torch.as_tensor(labels, dtype=torch.int64)\n",
        "    target = {}\n",
        "    target['boxes'] = boxes\n",
        "    target['labels'] = labels\n",
        "\n",
        "    return img, target"
      ],
      "metadata": {
        "id": "A2UzxM77kUA3"
      },
      "execution_count": null,
      "outputs": []
    },
    {
      "cell_type": "code",
      "source": [
        "train_dataset = BCCDDataset(Path.cwd() / 'train')"
      ],
      "metadata": {
        "id": "kl81o8IGki1I"
      },
      "execution_count": null,
      "outputs": []
    },
    {
      "cell_type": "code",
      "source": [
        "for img, target in train_dataset:\n",
        "  print(img.shape)\n",
        "  print(target)\n",
        "  break"
      ],
      "metadata": {
        "id": "p4XOL_t2p6zi"
      },
      "execution_count": null,
      "outputs": []
    },
    {
      "cell_type": "code",
      "source": [
        "dict(train_dataset.dataset).keys()"
      ],
      "metadata": {
        "id": "EZmTatRGuflt"
      },
      "execution_count": null,
      "outputs": []
    },
    {
      "cell_type": "code",
      "source": [
        ""
      ],
      "metadata": {
        "id": "8QfsxbBmvCYD"
      },
      "execution_count": null,
      "outputs": []
    }
  ]
}